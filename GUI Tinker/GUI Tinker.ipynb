{
 "cells": [
  {
   "cell_type": "markdown",
   "metadata": {},
   "source": [
    "# GUI using Tinker \n",
    "### An GUI program has the following structure:\n",
    "\n",
    "Create the icons and widgets that are displayed to a user and organize them inside a screen window.\n",
    "Define functions that will process user and application events.\n",
    "Associate specific user events with specific functions.\n",
    "Start an infinite event-loop that processes user events. When a user event happens, the event-loop calls the function associated with that event.\n",
    "\n",
    "\n",
    "### TKinter \n",
    "Is an abbreviation for “TK interface”. “TK” is a platform independent, customizable, and configurable GUI library. The Python module TKinter allows Python programs to use the TK libraries. An overview of TK can be found at https://en.wikipedia.org/wiki/Tk_(software)_\n",
    "\n",
    "\n",
    "## Hello World example :\n"
   ]
  },
  {
   "cell_type": "code",
   "execution_count": null,
   "metadata": {},
   "outputs": [],
   "source": [
    "import tkinter as tk\n",
    "from tkinter import ttk\n",
    "\n",
    "# Create the application window\n",
    "window = tk.Tk()\n",
    "\n",
    "# Create the user interface\n",
    "my_label = ttk.Label(window, text=\"Hello World!\")\n",
    "my_label.grid(row=1, column=1)\n",
    "\n",
    "# Start the GUI event loop\n",
    "window.mainloop()\n"
   ]
  },
  {
   "cell_type": "code",
   "execution_count": null,
   "metadata": {
    "collapsed": true
   },
   "outputs": [],
   "source": []
  }
 ],
 "metadata": {
  "kernelspec": {
   "display_name": "Python 3",
   "language": "python",
   "name": "python3"
  },
  "language_info": {
   "codemirror_mode": {
    "name": "ipython",
    "version": 3
   },
   "file_extension": ".py",
   "mimetype": "text/x-python",
   "name": "python",
   "nbconvert_exporter": "python",
   "pygments_lexer": "ipython3",
   "version": "3.5.2"
  }
 },
 "nbformat": 4,
 "nbformat_minor": 2
}
