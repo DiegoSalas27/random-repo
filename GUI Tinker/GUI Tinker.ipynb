{
 "cells": [
  {
   "cell_type": "markdown",
   "metadata": {},
   "source": [
    "# GUI using Tinker \n",
    "### An GUI program has the following structure:\n",
    "\n",
    "Create the icons and widgets that are displayed to a user and organize them inside a screen window.\n",
    "Define functions that will process user and application events.\n",
    "Associate specific user events with specific functions.\n",
    "Start an infinite event-loop that processes user events. When a user event happens, the event-loop calls the function associated with that event.\n",
    "\n",
    "\n",
    "### TKinter \n",
    "Is an abbreviation for “TK interface”. “TK” is a platform independent, customizable, and configurable GUI library. The Python module TKinter allows Python programs to use the TK libraries. An overview of TK can be found at https://en.wikipedia.org/wiki/Tk_(software)_\n",
    "\n",
    "\n",
    "## Hello World example :\n"
   ]
  },
  {
   "cell_type": "code",
   "execution_count": 2,
   "metadata": {
    "collapsed": true
   },
   "outputs": [],
   "source": [
    "import tkinter as tk\n",
    "from tkinter import ttk\n",
    "\n",
    "# Create the application window\n",
    "window = tk.Tk()\n",
    "\n",
    "# Create the user interface\n",
    "my_label = ttk.Label(window, text=\"Hello World!\")\n",
    "my_label.grid(row=1, column=1)\n",
    "\n",
    "# Start the GUI event loop\n",
    "window.mainloop()\n"
   ]
  },
  {
   "cell_type": "markdown",
   "metadata": {},
   "source": [
    "# Messages"
   ]
  },
  {
   "cell_type": "code",
   "execution_count": 20,
   "metadata": {},
   "outputs": [
    {
     "data": {
      "text/plain": [
       "'ok'"
      ]
     },
     "execution_count": 20,
     "metadata": {},
     "output_type": "execute_result"
    }
   ],
   "source": [
    "from tkinter import messagebox as msg\n",
    "msg.showinfo(\"Information\",\"Informative message\")\n",
    "msg.showerror(\"Error\",\"Error message\")\n",
    "msg.showwarning(\"Warning\",\"Warning message\")"
   ]
  },
  {
   "cell_type": "markdown",
   "metadata": {},
   "source": [
    "# Yes / No questions"
   ]
  },
  {
   "cell_type": "code",
   "execution_count": null,
   "metadata": {
    "collapsed": true
   },
   "outputs": [],
   "source": [
    "from tkinter import messagebox\n",
    "\n",
    "answer = messagebox.askokcancel(\"Question\",\"Do you want to open this file?\")\n",
    "answer = messagebox.askretrycancel(\"Question\", \"Do you want to try that again?\")\n",
    "answer = messagebox.askyesno(\"Question\",\"Do you like Python?\")\n",
    "answer = messagebox.askyesnocancel(\"Question\", \"Continue playing?\")\n"
   ]
  },
  {
   "cell_type": "markdown",
   "metadata": {},
   "source": [
    "# Single value entry data"
   ]
  },
  {
   "cell_type": "code",
   "execution_count": 14,
   "metadata": {
    "collapsed": true
   },
   "outputs": [],
   "source": [
    "import tkinter as tk\n",
    "from tkinter import simpledialog"
   ]
  },
  {
   "cell_type": "code",
   "execution_count": null,
   "metadata": {},
   "outputs": [],
   "source": [
    "app_window = tk.Tk()\n",
    "answer = simpledialog.askstring(\"Input\", \"What is your first name?\",\n",
    "                                parent=app_window)\n",
    "if answer is not None:\n",
    "    print(\"Your first name is \",answer)\n",
    "else:\n",
    "    print(\"You dont have a first name? \")\n",
    "\n",
    "answer = simpledialog.askinteger(\"Input\",\"What is your age?\",\n",
    "                                parent = app_window,\n",
    "                                minvalue=0 , maxvalue=100)\n",
    "\n",
    "if answer is not None:\n",
    "    print(\"Your age is \",answer)\n",
    "else:\n",
    "    print(\"You don't have an age?\")\n",
    "\n",
    "answer = simpledialog.askfloat(\"Input\", \"What is your salary?\",\n",
    "                               parent=app_window,\n",
    "                               minvalue=0.0, maxvalue=100000.0)\n",
    "if answer is not None:\n",
    "    print(\"Your salary is \", answer)\n",
    "else:\n",
    "    print(\"You don't have a salary?\")"
   ]
  },
  {
   "cell_type": "markdown",
   "metadata": {},
   "source": [
    "# File chooser"
   ]
  },
  {
   "cell_type": "code",
   "execution_count": null,
   "metadata": {},
   "outputs": [],
   "source": [
    "import tkinter as tk\n",
    "from tkinter import filedialog\n",
    "import os\n",
    "\n",
    "application_window = tk.Tk()\n",
    "\n",
    "# Build a list of tuples for each file type the file dialog should display\n",
    "my_filetypes = [('all files', '.*'), ('text files', '.txt')]\n",
    "\n",
    "# Ask the user to select a folder.\n",
    "answer = filedialog.askdirectory(parent=application_window,\n",
    "                                 initialdir=os.getcwd(),\n",
    "                                 title=\"Please select a folder:\")\n",
    "\n",
    "# Ask the user to select a single file name.\n",
    "answer = filedialog.askopenfilename(parent=application_window,\n",
    "                                    initialdir=os.getcwd(),\n",
    "                                    title=\"Please select a file:\",\n",
    "                                    filetypes=my_filetypes)\n",
    "\n",
    "# Ask the user to select a one or more file names.\n",
    "answer = filedialog.askopenfilenames(parent=application_window,\n",
    "                                     initialdir=os.getcwd(),\n",
    "                                     title=\"Please select one or more files:\",\n",
    "                                     filetypes=my_filetypes)\n",
    "\n",
    "# Ask the user to select a single file name for saving.\n",
    "answer = filedialog.asksaveasfilename(parent=application_window,\n",
    "                                      initialdir=os.getcwd(),\n",
    "                                      title=\"Please select a file name for saving:\",\n",
    "                                      filetypes=my_filetypes)\n"
   ]
  }
 ],
 "metadata": {
  "kernelspec": {
   "display_name": "Python 3",
   "language": "python",
   "name": "python3"
  },
  "language_info": {
   "codemirror_mode": {
    "name": "ipython",
    "version": 3
   },
   "file_extension": ".py",
   "mimetype": "text/x-python",
   "name": "python",
   "nbconvert_exporter": "python",
   "pygments_lexer": "ipython3",
   "version": "3.5.2"
  }
 },
 "nbformat": 4,
 "nbformat_minor": 2
}
