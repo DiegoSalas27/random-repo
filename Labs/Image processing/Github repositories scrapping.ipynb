{
 "cells": [
  {
   "cell_type": "code",
   "execution_count": null,
   "metadata": {},
   "outputs": [],
   "source": [
    "from bs4 import BeautifulSoup\n",
    "import requests\n",
    "\n",
    "__author__ = 'enzoftware'\n",
    "\n",
    "url_base = \"https://github.com/enzoftware?\" \n",
    "extension = \"tab=repositories\"\n",
    "max_pages = 20"
   ]
  },
  {
   "cell_type": "code",
   "execution_count": null,
   "metadata": {},
   "outputs": [],
   "source": [
    "counter = 0\n",
    "for i in range(1,max_pages):\n",
    "    if i > 1 : \n",
    "        url = url_base + \"page=\"+ str(i) + \"&\" + extension \n",
    "    else:\n",
    "        url = url_base + extension\n",
    "    \n",
    "    req = requests.get(url)\n",
    "    \n",
    "    status_code = req.status_code\n",
    "    \n",
    "    if status_code == 200 :\n",
    "        #Pasar a un objeto BS\n",
    "        html = BeautifulSoup(req.text,\"html.parser\")\n",
    "\n",
    "        #Obtenemos las etiquetas deseadas\n",
    "        entradas = html.find_all('li',{'itemprop':'owns'})\n",
    "\n",
    "        #Recorremos toda la data para obtener lo deseado\n",
    "        for i, entrada in enumerate(entradas):\n",
    "            #Con getText() , devuelve el HTML\n",
    "            repo_name = entrada.find('a',{'itemprop':'name codeRepository'}).getText()\n",
    "            descripcion = entrada.find('p',{'itemprop':'description'})\n",
    "            language = entrada.find('span',{'itemprop':'programmingLanguage'})\n",
    "\n",
    "            if(descripcion == None):\n",
    "                descripcion = 'Empty'\n",
    "            else:\n",
    "                descripcion = descripcion.getText()\n",
    "\n",
    "            if(language == None):\n",
    "                language = 'Empty'\n",
    "            else:\n",
    "                language = language.getText()\n",
    "\n",
    "            #Imprime la data obtenida\n",
    "            counter = counter + 1\n",
    "            print(counter,repo_name,descripcion,language)\n",
    "    else:\n",
    "        break\n",
    "        "
   ]
  },
  {
   "cell_type": "code",
   "execution_count": null,
   "metadata": {},
   "outputs": [],
   "source": []
  }
 ],
 "metadata": {
  "kernelspec": {
   "display_name": "Python 2",
   "language": "python",
   "name": "python2"
  },
  "language_info": {
   "codemirror_mode": {
    "name": "ipython",
    "version": 3
   },
   "file_extension": ".py",
   "mimetype": "text/x-python",
   "name": "python",
   "nbconvert_exporter": "python",
   "pygments_lexer": "ipython3",
   "version": "3.5.2"
  }
 },
 "nbformat": 4,
 "nbformat_minor": 2
}
