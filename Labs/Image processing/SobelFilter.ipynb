{
 "cells": [
  {
   "cell_type": "markdown",
   "metadata": {},
   "source": [
    "# Sobel filter"
   ]
  },
  {
   "cell_type": "code",
   "execution_count": 46,
   "metadata": {
    "collapsed": true
   },
   "outputs": [],
   "source": [
    "from PIL import Image\n",
    "import math"
   ]
  },
  {
   "cell_type": "code",
   "execution_count": 48,
   "metadata": {
    "collapsed": true
   },
   "outputs": [],
   "source": [
    "path = \"snake.png\" # Your image path \n",
    "img = Image.open(path)"
   ]
  },
  {
   "cell_type": "code",
   "execution_count": 50,
   "metadata": {
    "collapsed": true
   },
   "outputs": [],
   "source": [
    "width , height = img.size"
   ]
  },
  {
   "cell_type": "code",
   "execution_count": 52,
   "metadata": {},
   "outputs": [
    {
     "data": {
      "text/plain": [
       "(266, 266)"
      ]
     },
     "execution_count": 52,
     "metadata": {},
     "output_type": "execute_result"
    }
   ],
   "source": [
    "width , height"
   ]
  },
  {
   "cell_type": "code",
   "execution_count": 54,
   "metadata": {},
   "outputs": [
    {
     "name": "stdout",
     "output_type": "stream",
     "text": [
      "<PIL.PngImagePlugin.PngImageFile image mode=RGBA size=266x266 at 0x7F81405EDBE0>\n"
     ]
    }
   ],
   "source": [
    "print(img)"
   ]
  },
  {
   "cell_type": "code",
   "execution_count": 56,
   "metadata": {},
   "outputs": [
    {
     "data": {
      "image/png": "[encoded data removed]",
      "text/plain": [
       "<PIL.PngImagePlugin.PngImageFile image mode=RGBA size=266x266 at 0x7F81405EDBE0>"
      ]
     },
     "execution_count": 56,
     "metadata": {},
     "output_type": "execute_result"
    }
   ],
   "source": [
    "img"
   ]
  },
  {
   "cell_type": "code",
   "execution_count": 58,
   "metadata": {},
   "outputs": [
    {
     "data": {
      "text/plain": [
       "255"
      ]
     },
     "execution_count": 58,
     "metadata": {},
     "output_type": "execute_result"
    }
   ],
   "source": [
    "p = img.getpixel((1,1))\n",
    "p[0]"
   ]
  },
  {
   "cell_type": "code",
   "execution_count": 60,
   "metadata": {
    "collapsed": true
   },
   "outputs": [],
   "source": [
    "newimg = Image.new(\"RGB\", (width, height), \"white\")\n",
    "for x in range(1, width-1):  # ignore the edge pixels for simplicity (1 to width-1)\n",
    "    for y in range(1, height-1): # ignore edge pixels for simplicity (1 to height-1)\n",
    "\n",
    "        # initialise Gx to 0 and Gy to 0 for every pixel\n",
    "        Gx = 0\n",
    "        Gy = 0\n",
    "\n",
    "        # top left pixel\n",
    "        p = img.getpixel((x-1, y-1))\n",
    "        r = p[0]\n",
    "        g = p[1]\n",
    "        b = p[2]\n",
    "\n",
    "        # intensity ranges from 0 to 765 (255 * 3)\n",
    "        intensity = r + g + b\n",
    "\n",
    "        # accumulate the value into Gx, and Gy\n",
    "        Gx += -intensity\n",
    "        Gy += -intensity\n",
    "\n",
    "        # remaining left column\n",
    "        p = img.getpixel((x-1, y))\n",
    "        r = p[0]\n",
    "        g = p[1]\n",
    "        b = p[2]\n",
    "\n",
    "        Gx += -2 * (r + g + b)\n",
    "\n",
    "        p = img.getpixel((x-1, y+1))\n",
    "        r = p[0]\n",
    "        g = p[1]\n",
    "        b = p[2]\n",
    "\n",
    "        Gx += -(r + g + b)\n",
    "        Gy += (r + g + b)\n",
    "\n",
    "        # middle pixels\n",
    "        p = img.getpixel((x, y-1))\n",
    "        r = p[0]\n",
    "        g = p[1]\n",
    "        b = p[2]\n",
    "\n",
    "        Gy += -2 * (r + g + b)\n",
    "\n",
    "        p = img.getpixel((x, y+1))\n",
    "        r = p[0]\n",
    "        g = p[1]\n",
    "        b = p[2]\n",
    "\n",
    "        Gy += 2 * (r + g + b)\n",
    "\n",
    "        # right column\n",
    "        p = img.getpixel((x+1, y-1))\n",
    "        r = p[0]\n",
    "        g = p[1]\n",
    "        b = p[2]\n",
    "\n",
    "        Gx += (r + g + b)\n",
    "        Gy += -(r + g + b)\n",
    "\n",
    "        p = img.getpixel((x+1, y))\n",
    "        r = p[0]\n",
    "        g = p[1]\n",
    "        b = p[2]\n",
    "\n",
    "        Gx += 2 * (r + g + b)\n",
    "\n",
    "        p = img.getpixel((x+1, y+1))\n",
    "        r = p[0]\n",
    "        g = p[1]\n",
    "        b = p[2]\n",
    "\n",
    "        Gx += (r + g + b)\n",
    "        Gy += (r + g + b)\n",
    "\n",
    "        # calculate the length of the gradient (Pythagorean theorem)\n",
    "        length = math.sqrt((Gx * Gx) + (Gy * Gy))\n",
    "\n",
    "        # normalise the length of gradient to the range 0 to 255\n",
    "        length = length / 4328 * 255\n",
    "\n",
    "        length = int(length)\n",
    "\n",
    "        # draw the length in the edge image\n",
    "        #newpixel = img.putpixel((length,length,length))\n",
    "        newimg.putpixel((x,y),(length,length,length))"
   ]
  },
  {
   "cell_type": "code",
   "execution_count": 61,
   "metadata": {},
   "outputs": [
    {
     "data": {
      "image/png": "[encoded data removed]",
      "text/plain": [
       "<PIL.Image.Image image mode=RGB size=266x266 at 0x7F81405D92E8>"
      ]
     },
     "execution_count": 61,
     "metadata": {},
     "output_type": "execute_result"
    }
   ],
   "source": [
    "newimg"
   ]
  }
 ],
 "metadata": {
  "kernelspec": {
   "display_name": "Python 3",
   "language": "python",
   "name": "python3"
  },
  "language_info": {
   "codemirror_mode": {
    "name": "ipython",
    "version": 3
   },
   "file_extension": ".py",
   "mimetype": "text/x-python",
   "name": "python",
   "nbconvert_exporter": "python",
   "pygments_lexer": "ipython3",
   "version": "3.5.2"
  }
 },
 "nbformat": 4,
 "nbformat_minor": 2
}
