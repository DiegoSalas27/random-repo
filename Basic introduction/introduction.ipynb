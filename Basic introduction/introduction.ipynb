{
 "cells": [
  {
   "cell_type": "markdown",
   "metadata": {},
   "source": [
    "# Basic introduction to Python "
   ]
  },
  {
   "cell_type": "code",
   "execution_count": 2,
   "metadata": {},
   "outputs": [
    {
     "name": "stdout",
     "output_type": "stream",
     "text": [
      "This is my first output in PYTHON\n"
     ]
    }
   ],
   "source": [
    "print(\"This is my first output in PYTHON\")"
   ]
  },
  {
   "cell_type": "code",
   "execution_count": 5,
   "metadata": {},
   "outputs": [
    {
     "name": "stdout",
     "output_type": "stream",
     "text": [
      "<class 'int'>\n"
     ]
    }
   ],
   "source": [
    "#This is a comment\n",
    "element = 15 #Every element is assigned dynamic the type\n",
    "print(type(element))"
   ]
  },
  {
   "cell_type": "code",
   "execution_count": 7,
   "metadata": {},
   "outputs": [
    {
     "name": "stdout",
     "output_type": "stream",
     "text": [
      "123.564\n",
      "<class 'bool'>\n"
     ]
    }
   ],
   "source": [
    "sentence =\"This is sentence of string type\"\n",
    "integer = 15\n",
    "double = 123.564\n",
    "boolean = True\n",
    "print(double)\n",
    "print(type(boolean))"
   ]
  },
  {
   "cell_type": "code",
   "execution_count": 8,
   "metadata": {
    "collapsed": true
   },
   "outputs": [],
   "source": [
    "# RESERVE WORDS IN PYTHON -> NO VARIABLES WITH THAT NAMES\n",
    "#\n",
    "# and\tas\tassert\tbreak\tclass\tcontinue\n",
    "# def\tdel\telif\telse\texcept\texec\n",
    "# finally\tfor\tfrom\tglobal\tif\timport\n",
    "# in\tis\tlambda\tnonlocal\tnot\tor\n",
    "# pass\traise\treturn\ttry\twhile\twith\n",
    "# yield\tTrue\tFalse\tNone\n",
    "#"
   ]
  },
  {
   "cell_type": "code",
   "execution_count": 10,
   "metadata": {},
   "outputs": [
    {
     "name": "stdout",
     "output_type": "stream",
     "text": [
      "270\n",
      "-30\n",
      "18000\n",
      "0.8\n"
     ]
    }
   ],
   "source": [
    "number1 = 120\n",
    "number2 = 150\n",
    "print(number1+number2)\n",
    "print(number1-number2)\n",
    "print(number1*number2)\n",
    "print(number1/number2)"
   ]
  },
  {
   "cell_type": "code",
   "execution_count": 12,
   "metadata": {},
   "outputs": [
    {
     "name": "stdout",
     "output_type": "stream",
     "text": [
      "157\n"
     ]
    }
   ],
   "source": [
    "element = 156\n",
    "element = element+1\n",
    "print(element)"
   ]
  },
  {
   "cell_type": "code",
   "execution_count": 14,
   "metadata": {},
   "outputs": [
    {
     "name": "stdout",
     "output_type": "stream",
     "text": [
      "Enter the value data\n",
      "\n"
     ]
    }
   ],
   "source": [
    "# As simple as\n",
    "value = input(\"Enter the value data\")\n",
    "print(value)"
   ]
  },
  {
   "cell_type": "markdown",
   "metadata": {},
   "source": [
    "# Some problems for practice :"
   ]
  },
  {
   "cell_type": "code",
   "execution_count": 16,
   "metadata": {},
   "outputs": [
    {
     "name": "stdout",
     "output_type": "stream",
     "text": [
      "Problem #1 : \n",
      "25\n",
      "72\n",
      "1.25\n",
      "32.0\n",
      "9\n",
      "1\n",
      "0\n"
     ]
    }
   ],
   "source": [
    "print(\"Problem #1 : \")\n",
    "print(5**2)\n",
    "print(9*8)\n",
    "print(15/12)\n",
    "print(64/2)\n",
    "print(81//9)\n",
    "print(5%2)\n",
    "print(0%7)"
   ]
  },
  {
   "cell_type": "code",
   "execution_count": 18,
   "metadata": {},
   "outputs": [
    {
     "name": "stdout",
     "output_type": "stream",
     "text": [
      "Problem #2 : \n",
      "Enter the currently hour : 01\n",
      "Enter the number of hours that past to start the alarm : 20\n",
      "21\n"
     ]
    }
   ],
   "source": [
    "print(\"Problem #2 : \")\n",
    "currently = int(input(\"Enter the currently hour : \"))\n",
    "number_of_hours = int(input(\"Enter the number of hours that past to start the alarm : \"))\n",
    "\n",
    "print((currently+number_of_hours) % 24)"
   ]
  },
  {
   "cell_type": "code",
   "execution_count": 20,
   "metadata": {},
   "outputs": [
    {
     "name": "stdout",
     "output_type": "stream",
     "text": [
      "Problem #3 : \n",
      "Enter the radius of the circle : 12\n",
      "452.3904\n"
     ]
    }
   ],
   "source": [
    "print(\"Problem #3 : \")\n",
    "pi = 3.1416\n",
    "radius = float(input(\"Enter the radius of the circle : \"))\n",
    "print(pi*radius**2)"
   ]
  },
  {
   "cell_type": "markdown",
   "metadata": {},
   "source": [
    "# Loops in Python "
   ]
  },
  {
   "cell_type": "code",
   "execution_count": 22,
   "metadata": {},
   "outputs": [
    {
     "name": "stdout",
     "output_type": "stream",
     "text": [
      "Hello enzo  , please come to my party\n",
      "Hello rodrigo  , please come to my party\n",
      "Hello andrecito  , please come to my party\n",
      "Hello diego  , please come to my party\n",
      "Hello david  , please come to my party\n",
      "Hello tonchy  , please come to my party\n"
     ]
    }
   ],
   "source": [
    "for name in ['enzo','rodrigo','andrecito','diego','david','tonchy']:\n",
    "    print(\"Hello\",name,\" , please come to my party\")"
   ]
  },
  {
   "cell_type": "code",
   "execution_count": 24,
   "metadata": {},
   "outputs": [
    {
     "name": "stdout",
     "output_type": "stream",
     "text": [
      "0\n",
      "1\n",
      "2\n",
      "3\n",
      "4\n"
     ]
    }
   ],
   "source": [
    "for i in range(5):\n",
    "    print(i)"
   ]
  },
  {
   "cell_type": "code",
   "execution_count": 26,
   "metadata": {},
   "outputs": [
    {
     "name": "stdout",
     "output_type": "stream",
     "text": [
      "[0, 1, 2, 3]\n",
      "[1, 2, 3, 4]\n"
     ]
    }
   ],
   "source": [
    "print(list(range(4)))\n",
    "print(list(range(1,5)))"
   ]
  },
  {
   "cell_type": "code",
   "execution_count": 28,
   "metadata": {},
   "outputs": [
    {
     "name": "stdout",
     "output_type": "stream",
     "text": [
      "[0, 2, 4, 6, 8, 10, 12, 14, 16, 18]\n",
      "[0, 5, 10, 15, 20, 25, 30, 35, 40, 45]\n",
      "[10, 9, 8, 7, 6, 5, 4, 3, 2, 1]\n"
     ]
    }
   ],
   "source": [
    "print(list(range(0,19,2)))\n",
    "print(list(range(0,50,5)))\n",
    "print(list(range(10,0,-1)))"
   ]
  },
  {
   "cell_type": "markdown",
   "metadata": {},
   "source": [
    "# Lists in Python "
   ]
  },
  {
   "cell_type": "code",
   "execution_count": 40,
   "metadata": {},
   "outputs": [
    {
     "name": "stdout",
     "output_type": "stream",
     "text": [
      "[21, 126, 545]\n",
      "['hello', 55.23, 78, [16, 65]]\n"
     ]
    }
   ],
   "source": [
    "vocabulary = ['iteration','selection',\"control\"]\n",
    "numbers = [21,126,545]\n",
    "mixedList = [\"hello\",55.23,78,[16,65]]\n",
    "print(numbers)\n",
    "print(mixedList)"
   ]
  },
  {
   "cell_type": "code",
   "execution_count": 42,
   "metadata": {},
   "outputs": [
    {
     "name": "stdout",
     "output_type": "stream",
     "text": [
      "[[21, 126, 545], ['iteration', 'selection', 'control']]\n",
      "4\n"
     ]
    }
   ],
   "source": [
    "newList = [numbers,vocabulary]\n",
    "print(newList)\n",
    "print(len(mixedList))"
   ]
  },
  {
   "cell_type": "code",
   "execution_count": 44,
   "metadata": {},
   "outputs": [
    {
     "name": "stdout",
     "output_type": "stream",
     "text": [
      "hello\n"
     ]
    }
   ],
   "source": [
    "print(mixedList[0])"
   ]
  },
  {
   "cell_type": "code",
   "execution_count": 46,
   "metadata": {},
   "outputs": [
    {
     "name": "stdout",
     "output_type": "stream",
     "text": [
      "False\n",
      "True\n",
      "['hello', 55.23, 78, [16, 65], 'hello', 55.23, 78, [16, 65], 'hello', 55.23, 78, [16, 65]]\n"
     ]
    }
   ],
   "source": [
    "listNumbers = [12,56,98]\n",
    "print(120 in listNumbers)\n",
    "print(56 in listNumbers)\n",
    "print(mixedList*3)"
   ]
  },
  {
   "cell_type": "code",
   "execution_count": 48,
   "metadata": {},
   "outputs": [
    {
     "name": "stdout",
     "output_type": "stream",
     "text": [
      "['b', 'c']\n",
      "['a', 'b', 'c', 'd']\n",
      "['d', 'e', 'f']\n",
      "['a', 'b', 'c', 'd', 'e', 'f']\n"
     ]
    }
   ],
   "source": [
    "a_list = ['a','b','c','d','e','f']\n",
    "print(a_list[1:3])\n",
    "print(a_list[:4])\n",
    "print(a_list[3:])\n",
    "print(a_list[:])"
   ]
  },
  {
   "cell_type": "code",
   "execution_count": 50,
   "metadata": {},
   "outputs": [
    {
     "name": "stdout",
     "output_type": "stream",
     "text": [
      "['banana', 'strawberry', 'orange', 'lima']\n",
      "['orange', 'strawberry', 'orange', 'lima']\n",
      "['orange', 'strawberry', 'orange', 'cherry']\n",
      "['orange', 'pineapple', 'kiwi', 'cherry']\n",
      "['orange', 'cherry']\n"
     ]
    }
   ],
   "source": [
    "fruit = ['banana','strawberry','orange','lima']\n",
    "print(fruit)\n",
    "fruit[0] = 'orange'\n",
    "print(fruit)\n",
    "fruit[-1] = 'cherry'\n",
    "print(fruit)\n",
    "fruit[1 : 3] = [\"pineapple\",\"kiwi\"] \n",
    "print(fruit)\n",
    "fruit[1 : 3] = [] \n",
    "print(fruit)"
   ]
  },
  {
   "cell_type": "markdown",
   "metadata": {},
   "source": [
    "# Files in Python "
   ]
  },
  {
   "cell_type": "code",
   "execution_count": 52,
   "metadata": {},
   "outputs": [
    {
     "name": "stdout",
     "output_type": "stream",
     "text": [
      "QB Colt McCoy\n",
      "QB Josh Freeman\n",
      "QB Michael Vick\n",
      "QB Matt Schaub\n",
      "QB Philip Rivers\n",
      "QB Matt Hasselbeck\n",
      "QB Jimmy Clausen\n",
      "QB Joe Flacco\n",
      "QB Kyle Orton\n",
      "QB Jason Campbell\n",
      "QB Peyton Manning\n",
      "QB Drew Brees\n",
      "QB Matt Ryan\n",
      "QB Matt Cassel\n",
      "QB Mark Sanchez\n",
      "QB Brett Favre\n",
      "QB David Garrard\n",
      "QB Eli Manning\n",
      "QB Carson Palmer\n",
      "QB Alex Smith\n",
      "QB Chad Henne\n",
      "QB Tony Romo\n",
      "QB Jay Cutler\n",
      "QB Jon Kitna\n",
      "QB Tom Brady\n",
      "QB Ben Roethlisberger\n",
      "QB Kerry Collins\n",
      "QB Derek Anderson\n",
      "QB Ryan Fitzpatrick\n",
      "QB Donovan McNabb\n",
      "QB Kevin Kolb\n",
      "QB Aaron Rodgers\n",
      "QB Sam Bradford\n",
      "QB Shaun Hill\n"
     ]
    }
   ],
   "source": [
    "qbfile = open(\"stats.txt\",'r')\n",
    "for aline in qbfile:\n",
    "    values = aline.split()\n",
    "    print('QB',values[0],values[1])\n",
    "\n",
    "qbfile.close()"
   ]
  },
  {
   "cell_type": "code",
   "execution_count": 54,
   "metadata": {},
   "outputs": [
    {
     "name": "stdout",
     "output_type": "stream",
     "text": [
      "QB Colt McCoy  had a rating of  74.5\n",
      "QB Josh Freeman  had a rating of  95.9\n",
      "QB Michael Vick  had a rating of  100.2\n",
      "QB Matt Schaub  had a rating of  92.0\n",
      "QB Philip Rivers  had a rating of  101.8\n",
      "QB Matt Hasselbeck  had a rating of  73.2\n",
      "QB Jimmy Clausen  had a rating of  58.4\n",
      "QB Joe Flacco  had a rating of  93.6\n",
      "QB Kyle Orton  had a rating of  87.5\n",
      "QB Jason Campbell  had a rating of  84.5\n",
      "QB Peyton Manning  had a rating of  91.9\n",
      "QB Drew Brees  had a rating of  90.9\n",
      "QB Matt Ryan  had a rating of  91.0\n",
      "QB Matt Cassel  had a rating of  93.0\n",
      "QB Mark Sanchez  had a rating of  75.3\n",
      "QB Brett Favre  had a rating of  69.9\n",
      "QB David Garrard  had a rating of  90.8\n",
      "QB Eli Manning  had a rating of  85.3\n",
      "QB Carson Palmer  had a rating of  82.4\n",
      "QB Alex Smith  had a rating of  82.1\n",
      "QB Chad Henne  had a rating of  75.4\n",
      "QB Tony Romo  had a rating of  94.9\n",
      "QB Jay Cutler  had a rating of  86.3\n",
      "QB Jon Kitna  had a rating of  88.9\n",
      "QB Tom Brady  had a rating of  111.0\n",
      "QB Ben Roethlisberger  had a rating of  97.0\n",
      "QB Kerry Collins  had a rating of  82.2\n",
      "QB Derek Anderson  had a rating of  65.9\n",
      "QB Ryan Fitzpatrick  had a rating of  81.8\n",
      "QB Donovan McNabb  had a rating of  77.1\n",
      "QB Kevin Kolb  had a rating of  76.1\n",
      "QB Aaron Rodgers  had a rating of  101.2\n",
      "QB Sam Bradford  had a rating of  76.5\n",
      "QB Shaun Hill  had a rating of  81.3\n"
     ]
    }
   ],
   "source": [
    "infile = open(\"stats.txt\",\"r\")\n",
    "line = infile.readline()\n",
    "while line:\n",
    "    values = line.split()\n",
    "    print('QB',values[0],values[1],' had a rating of ',values[10])\n",
    "    line = infile.readline()\n",
    "\n",
    "infile.close()"
   ]
  },
  {
   "cell_type": "markdown",
   "metadata": {},
   "source": [
    "# Strings in Python"
   ]
  },
  {
   "cell_type": "code",
   "execution_count": 56,
   "metadata": {},
   "outputs": [
    {
     "name": "stdout",
     "output_type": "stream",
     "text": [
      "Z\n",
      "E\n"
     ]
    }
   ],
   "source": [
    "sentence = \"ENZOFTWARE\"\n",
    "print(sentence[2])\n",
    "print(sentence[-1])\n",
    "# 0 1 2 3 4 5 6 7 8 9\n",
    "# e n z o f t w a r e\n",
    "#-10-9-8-7-6-5-4-3-2-1"
   ]
  },
  {
   "cell_type": "code",
   "execution_count": 66,
   "metadata": {},
   "outputs": [
    {
     "name": "stdout",
     "output_type": "stream",
     "text": [
      "ENZOFTWARE\n",
      "enzoftware\n",
      "Enzoftware\n",
      "ENZOFTWARE\n",
      "2\n",
      "0\n",
      "10\n",
      "65\n",
      "K\n"
     ]
    }
   ],
   "source": [
    "print(sentence.upper())\n",
    "print(sentence.lower())\n",
    "print(sentence.capitalize())\n",
    "print(sentence.replace('e','i'))\n",
    "print(sentence.count('E'))\n",
    "print(sentence.find('E'))\n",
    "print(len(sentence))\n",
    "print(ord('A'))\n",
    "print(chr(75))"
   ]
  },
  {
   "cell_type": "code",
   "execution_count": 68,
   "metadata": {},
   "outputs": [
    {
     "name": "stdout",
     "output_type": "stream",
     "text": [
      "Jello, world!!\n",
      "Hello, world!!\n"
     ]
    }
   ],
   "source": [
    "greeting = \"Hello, world!!\"\n",
    "newGreeting = 'J' + greeting[1:]\n",
    "print(newGreeting)\n",
    "print(greeting)"
   ]
  },
  {
   "cell_type": "code",
   "execution_count": 71,
   "metadata": {},
   "outputs": [
    {
     "name": "stdout",
     "output_type": "stream",
     "text": [
      "True\n",
      "True\n"
     ]
    }
   ],
   "source": [
    "print('p' in 'apple')\n",
    "print('x' not in 'grape')"
   ]
  },
  {
   "cell_type": "code",
   "execution_count": 99,
   "metadata": {},
   "outputs": [
    {
     "name": "stdout",
     "output_type": "stream",
     "text": [
      "hola\n"
     ]
    }
   ],
   "source": [
    "def removeVowels(s):\n",
    "    vowels =\"aeiouAEIOU\"\n",
    "    sWithOutVowels=\"\"\n",
    "    for char in s:\n",
    "        if char is not vowels:\n",
    "            sWithOutVowels = sWithOutVowels + char\n",
    "    return sWithOutVowels\n",
    "\n",
    "print(removeVowels(\"hola\"))"
   ]
  },
  {
   "cell_type": "code",
   "execution_count": 89,
   "metadata": {},
   "outputs": [
    {
     "name": "stdout",
     "output_type": "stream",
     "text": [
      "3\n"
     ]
    }
   ],
   "source": [
    "def count(text,aChar):\n",
    "    lettercount = 0\n",
    "    for c in text:\n",
    "        if c == aChar:\n",
    "            lettercount = lettercount + 1\n",
    "    return lettercount\n",
    "\n",
    "print(count(\"banana\",\"a\"))"
   ]
  },
  {
   "cell_type": "code",
   "execution_count": 91,
   "metadata": {},
   "outputs": [
    {
     "name": "stdout",
     "output_type": "stream",
     "text": [
      "3\n"
     ]
    }
   ],
   "source": [
    "def find(astring , achar):\n",
    "    ix = 0\n",
    "    found = False\n",
    "    while ix < len(astring) and not found:\n",
    "        if astring[ix] == achar:\n",
    "            found = True\n",
    "        else:\n",
    "            ix = ix + 1\n",
    "    if found :\n",
    "        return ix\n",
    "    else:\n",
    "        return -1\n",
    "\n",
    "print(find(\"enzoftware\",\"o\")) "
   ]
  },
  {
   "cell_type": "code",
   "execution_count": 100,
   "metadata": {},
   "outputs": [
    {
     "name": "stdout",
     "output_type": "stream",
     "text": [
      "1\n"
     ]
    }
   ],
   "source": [
    "def findOptional(astring , achar , start = 0): \n",
    "    ix = start\n",
    "    found = False\n",
    "    while ix < len(astring) and not found:\n",
    "        if astring[ix] == achar:\n",
    "            found = True\n",
    "        else:\n",
    "            ix = ix + 1\n",
    "    if found :\n",
    "        return ix\n",
    "    else:\n",
    "        return -1\n",
    "print(findOptional('banana', 'a'))"
   ]
  },
  {
   "cell_type": "markdown",
   "metadata": {},
   "source": [
    "# Python modules with MathRandom "
   ]
  },
  {
   "cell_type": "code",
   "execution_count": 102,
   "metadata": {
    "collapsed": true
   },
   "outputs": [],
   "source": [
    "import random\n",
    "import math"
   ]
  },
  {
   "cell_type": "code",
   "execution_count": 104,
   "metadata": {},
   "outputs": [
    {
     "name": "stdout",
     "output_type": "stream",
     "text": [
      "0.11180495740605045\n",
      "70\n",
      "77\n",
      "42\n",
      "67\n",
      "3\n",
      "58\n",
      "53\n",
      "90\n",
      "42\n",
      "37\n"
     ]
    }
   ],
   "source": [
    "print(random.random())\n",
    "for i in range(10):\n",
    "    print(random.randrange(1,100))"
   ]
  },
  {
   "cell_type": "code",
   "execution_count": 108,
   "metadata": {},
   "outputs": [
    {
     "name": "stdout",
     "output_type": "stream",
     "text": [
      "Enter hyp of a triangle5\n",
      "Angle30\n",
      "2.23606797749979\n"
     ]
    }
   ],
   "source": [
    "hyp = float(input(\"Enter hyp of a triangle\"))\n",
    "x = float(input(\"Angle\"))\n",
    "\n",
    "hyp = math.sqrt(hyp*math.sin(x)**2 + hyp*math.cos(x)**2)\n",
    "print(hyp)"
   ]
  },
  {
   "cell_type": "code",
   "execution_count": null,
   "metadata": {
    "collapsed": true
   },
   "outputs": [],
   "source": []
  }
 ],
 "metadata": {
  "kernelspec": {
   "display_name": "Python 3",
   "language": "python",
   "name": "python3"
  },
  "language_info": {
   "codemirror_mode": {
    "name": "ipython",
    "version": 3
   },
   "file_extension": ".py",
   "mimetype": "text/x-python",
   "name": "python",
   "nbconvert_exporter": "python",
   "pygments_lexer": "ipython3",
   "version": "3.5.2"
  }
 },
 "nbformat": 4,
 "nbformat_minor": 2
}
