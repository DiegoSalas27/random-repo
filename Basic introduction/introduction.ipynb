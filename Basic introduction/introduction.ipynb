{
 "cells": [
  {
   "cell_type": "markdown",
   "metadata": {},
   "source": [
    "# Basic introduction to Python "
   ]
  },
  {
   "cell_type": "code",
   "execution_count": 2,
   "metadata": {},
   "outputs": [
    {
     "name": "stdout",
     "output_type": "stream",
     "text": [
      "This is my first output in PYTHON\n"
     ]
    }
   ],
   "source": [
    "print(\"This is my first output in PYTHON\")"
   ]
  },
  {
   "cell_type": "code",
   "execution_count": 6,
   "metadata": {},
   "outputs": [
    {
     "name": "stdout",
     "output_type": "stream",
     "text": [
      "<class 'int'>\n"
     ]
    }
   ],
   "source": [
    "#This is a comment\n",
    "element = 15 #Every element is assigned dynamic the type\n",
    "print(type(element))"
   ]
  },
  {
   "cell_type": "code",
   "execution_count": 8,
   "metadata": {},
   "outputs": [
    {
     "name": "stdout",
     "output_type": "stream",
     "text": [
      "123.564\n",
      "<class 'bool'>\n"
     ]
    }
   ],
   "source": [
    "sentence =\"This is sentence of string type\"\n",
    "integer = 15\n",
    "double = 123.564\n",
    "boolean = True\n",
    "print(double)\n",
    "print(type(boolean))"
   ]
  },
  {
   "cell_type": "code",
   "execution_count": 9,
   "metadata": {
    "collapsed": true
   },
   "outputs": [],
   "source": [
    "# RESERVE WORDS IN PYTHON -> NO VARIABLES WITH THAT NAMES\n",
    "#\n",
    "# and\tas\tassert\tbreak\tclass\tcontinue\n",
    "# def\tdel\telif\telse\texcept\texec\n",
    "# finally\tfor\tfrom\tglobal\tif\timport\n",
    "# in\tis\tlambda\tnonlocal\tnot\tor\n",
    "# pass\traise\treturn\ttry\twhile\twith\n",
    "# yield\tTrue\tFalse\tNone\n",
    "#"
   ]
  },
  {
   "cell_type": "code",
   "execution_count": 12,
   "metadata": {},
   "outputs": [
    {
     "name": "stdout",
     "output_type": "stream",
     "text": [
      "270\n",
      "-30\n",
      "18000\n",
      "0.8\n"
     ]
    }
   ],
   "source": [
    "number1 = 120\n",
    "number2 = 150\n",
    "print(number1+number2)\n",
    "print(number1-number2)\n",
    "print(number1*number2)\n",
    "print(number1/number2)"
   ]
  },
  {
   "cell_type": "code",
   "execution_count": 14,
   "metadata": {},
   "outputs": [
    {
     "name": "stdout",
     "output_type": "stream",
     "text": [
      "157\n"
     ]
    }
   ],
   "source": [
    "element = 156\n",
    "element = element+1\n",
    "print(element)"
   ]
  },
  {
   "cell_type": "code",
   "execution_count": null,
   "metadata": {},
   "outputs": [],
   "source": [
    "# As simple as\n",
    "value = input(\"Enter the value data\")\n",
    "print(value)"
   ]
  },
  {
   "cell_type": "markdown",
   "metadata": {},
   "source": [
    "# Some problems for practice :"
   ]
  },
  {
   "cell_type": "code",
   "execution_count": null,
   "metadata": {
    "collapsed": true
   },
   "outputs": [],
   "source": []
  }
 ],
 "metadata": {
  "kernelspec": {
   "display_name": "Python 3",
   "language": "python",
   "name": "python3"
  },
  "language_info": {
   "codemirror_mode": {
    "name": "ipython",
    "version": 3
   },
   "file_extension": ".py",
   "mimetype": "text/x-python",
   "name": "python",
   "nbconvert_exporter": "python",
   "pygments_lexer": "ipython3",
   "version": "3.5.2"
  }
 },
 "nbformat": 4,
 "nbformat_minor": 2
}
