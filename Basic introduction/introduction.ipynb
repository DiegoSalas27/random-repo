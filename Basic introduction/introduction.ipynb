{
 "cells": [
  {
   "cell_type": "markdown",
   "metadata": {},
   "source": [
    "# Basic introduction to Python "
   ]
  },
  {
   "cell_type": "code",
   "execution_count": 2,
   "metadata": {},
   "outputs": [
    {
     "name": "stdout",
     "output_type": "stream",
     "text": [
      "This is my first output in PYTHON\n"
     ]
    }
   ],
   "source": [
    "print(\"This is my first output in PYTHON\")"
   ]
  },
  {
   "cell_type": "code",
   "execution_count": 5,
   "metadata": {},
   "outputs": [
    {
     "name": "stdout",
     "output_type": "stream",
     "text": [
      "<class 'int'>\n"
     ]
    }
   ],
   "source": [
    "#This is a comment\n",
    "element = 15 #Every element is assigned dynamic the type\n",
    "print(type(element))"
   ]
  },
  {
   "cell_type": "code",
   "execution_count": 7,
   "metadata": {},
   "outputs": [
    {
     "name": "stdout",
     "output_type": "stream",
     "text": [
      "123.564\n",
      "<class 'bool'>\n"
     ]
    }
   ],
   "source": [
    "sentence =\"This is sentence of string type\"\n",
    "integer = 15\n",
    "double = 123.564\n",
    "boolean = True\n",
    "print(double)\n",
    "print(type(boolean))"
   ]
  },
  {
   "cell_type": "code",
   "execution_count": 8,
   "metadata": {
    "collapsed": true
   },
   "outputs": [],
   "source": [
    "# RESERVE WORDS IN PYTHON -> NO VARIABLES WITH THAT NAMES\n",
    "#\n",
    "# and\tas\tassert\tbreak\tclass\tcontinue\n",
    "# def\tdel\telif\telse\texcept\texec\n",
    "# finally\tfor\tfrom\tglobal\tif\timport\n",
    "# in\tis\tlambda\tnonlocal\tnot\tor\n",
    "# pass\traise\treturn\ttry\twhile\twith\n",
    "# yield\tTrue\tFalse\tNone\n",
    "#"
   ]
  },
  {
   "cell_type": "code",
   "execution_count": 10,
   "metadata": {},
   "outputs": [
    {
     "name": "stdout",
     "output_type": "stream",
     "text": [
      "270\n",
      "-30\n",
      "18000\n",
      "0.8\n"
     ]
    }
   ],
   "source": [
    "number1 = 120\n",
    "number2 = 150\n",
    "print(number1+number2)\n",
    "print(number1-number2)\n",
    "print(number1*number2)\n",
    "print(number1/number2)"
   ]
  },
  {
   "cell_type": "code",
   "execution_count": 12,
   "metadata": {},
   "outputs": [
    {
     "name": "stdout",
     "output_type": "stream",
     "text": [
      "157\n"
     ]
    }
   ],
   "source": [
    "element = 156\n",
    "element = element+1\n",
    "print(element)"
   ]
  },
  {
   "cell_type": "code",
   "execution_count": 14,
   "metadata": {},
   "outputs": [
    {
     "name": "stdout",
     "output_type": "stream",
     "text": [
      "Enter the value data\n",
      "\n"
     ]
    }
   ],
   "source": [
    "# As simple as\n",
    "value = input(\"Enter the value data\")\n",
    "print(value)"
   ]
  },
  {
   "cell_type": "markdown",
   "metadata": {},
   "source": [
    "# Some problems for practice :"
   ]
  },
  {
   "cell_type": "code",
   "execution_count": 16,
   "metadata": {},
   "outputs": [
    {
     "name": "stdout",
     "output_type": "stream",
     "text": [
      "Problem #1 : \n",
      "25\n",
      "72\n",
      "1.25\n",
      "32.0\n",
      "9\n",
      "1\n",
      "0\n"
     ]
    }
   ],
   "source": [
    "print(\"Problem #1 : \")\n",
    "print(5**2)\n",
    "print(9*8)\n",
    "print(15/12)\n",
    "print(64/2)\n",
    "print(81//9)\n",
    "print(5%2)\n",
    "print(0%7)"
   ]
  },
  {
   "cell_type": "code",
   "execution_count": 18,
   "metadata": {},
   "outputs": [
    {
     "name": "stdout",
     "output_type": "stream",
     "text": [
      "Problem #2 : \n",
      "Enter the currently hour : 01\n",
      "Enter the number of hours that past to start the alarm : 20\n",
      "21\n"
     ]
    }
   ],
   "source": [
    "print(\"Problem #2 : \")\n",
    "currently = int(input(\"Enter the currently hour : \"))\n",
    "number_of_hours = int(input(\"Enter the number of hours that past to start the alarm : \"))\n",
    "\n",
    "print((currently+number_of_hours) % 24)"
   ]
  },
  {
   "cell_type": "code",
   "execution_count": 20,
   "metadata": {},
   "outputs": [
    {
     "name": "stdout",
     "output_type": "stream",
     "text": [
      "Problem #3 : \n",
      "Enter the radius of the circle : 12\n",
      "452.3904\n"
     ]
    }
   ],
   "source": [
    "print(\"Problem #3 : \")\n",
    "pi = 3.1416\n",
    "radius = float(input(\"Enter the radius of the circle : \"))\n",
    "print(pi*radius**2)"
   ]
  },
  {
   "cell_type": "markdown",
   "metadata": {},
   "source": [
    "# Loops in Python "
   ]
  },
  {
   "cell_type": "code",
   "execution_count": 22,
   "metadata": {},
   "outputs": [
    {
     "name": "stdout",
     "output_type": "stream",
     "text": [
      "Hello enzo  , please come to my party\n",
      "Hello rodrigo  , please come to my party\n",
      "Hello andrecito  , please come to my party\n",
      "Hello diego  , please come to my party\n",
      "Hello david  , please come to my party\n",
      "Hello tonchy  , please come to my party\n"
     ]
    }
   ],
   "source": [
    "for name in ['enzo','rodrigo','andrecito','diego','david','tonchy']:\n",
    "    print(\"Hello\",name,\" , please come to my party\")"
   ]
  },
  {
   "cell_type": "code",
   "execution_count": 24,
   "metadata": {},
   "outputs": [
    {
     "name": "stdout",
     "output_type": "stream",
     "text": [
      "0\n",
      "1\n",
      "2\n",
      "3\n",
      "4\n"
     ]
    }
   ],
   "source": [
    "for i in range(5):\n",
    "    print(i)"
   ]
  },
  {
   "cell_type": "code",
   "execution_count": 26,
   "metadata": {},
   "outputs": [
    {
     "name": "stdout",
     "output_type": "stream",
     "text": [
      "[0, 1, 2, 3]\n",
      "[1, 2, 3, 4]\n"
     ]
    }
   ],
   "source": [
    "print(list(range(4)))\n",
    "print(list(range(1,5)))"
   ]
  },
  {
   "cell_type": "code",
   "execution_count": null,
   "metadata": {
    "collapsed": true
   },
   "outputs": [],
   "source": [
    "print(list(range(0,19,2)))\n"
   ]
  }
 ],
 "metadata": {
  "kernelspec": {
   "display_name": "Python 3",
   "language": "python",
   "name": "python3"
  },
  "language_info": {
   "codemirror_mode": {
    "name": "ipython",
    "version": 3
   },
   "file_extension": ".py",
   "mimetype": "text/x-python",
   "name": "python",
   "nbconvert_exporter": "python",
   "pygments_lexer": "ipython3",
   "version": "3.5.2"
  }
 },
 "nbformat": 4,
 "nbformat_minor": 2
}
